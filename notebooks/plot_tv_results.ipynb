{
 "cells": [
  {
   "cell_type": "code",
   "execution_count": null,
   "metadata": {},
   "outputs": [],
   "source": [
    "import os\n",
    "import gc\n",
    "\n",
    "import numpy as np\n",
    "import pandas as pd\n",
    "\n",
    "import seaborn as sns\n",
    "from matplotlib import pyplot as plt\n",
    "\n",
    "os.chdir('../icl_task_vectors')\n",
    "\n",
    "from scripts.figures import main as figs\n",
    "\n",
    "import sys\n",
    "sys.path.append('..')\n",
    "from config import (\n",
    "    STAGE_NAME_LONG,\n",
    "    STAGE_NAME_DATA\n",
    ")"
   ]
  },
  {
   "cell_type": "code",
   "execution_count": null,
   "metadata": {},
   "outputs": [],
   "source": [
    "experiment_id = \"2025_01_16\"\n",
    "results = figs.load_main_results(experiment_id)\n",
    "accuracies = figs.extract_accuracies(results)\n",
    "accuracies_df = figs.create_accuracies_df(results)\n",
    "grouped_accuracies_df = figs.create_grouped_accuracies_df(accuracies_df)"
   ]
  },
  {
   "cell_type": "code",
   "execution_count": null,
   "metadata": {},
   "outputs": [],
   "source": [
    "task_map = {\n",
    "    'linguistic_antonyms': 'antonym',\n",
    "    'linguistic_present_simple_past_simple': 'present-past',\n",
    "    'knowledge_country_capital': 'country-capital',\n",
    "    'translation_en_fr': 'translation_en_fr',\n",
    "    'translation_en_it': 'translation_en_it',\n",
    "    'translation_en_es': 'translation_en_es',\n",
    "    'translation_fr_en': 'translation_fr_en',\n",
    "    'translation_it_en': 'translation_it_en',\n",
    "    'translation_es_en': 'translation_es_en',\n",
    "}\n",
    "task_short = {\n",
    "    'linguistic_antonyms': 'antonym',\n",
    "    'knowledge_country_capital': 'country-capital',\n",
    "    'linguistic_present_simple_past_simple': 'present-past',\n",
    "    'translation_es_en': 'sp-eng',\n",
    "    'translation_en_es': 'eng-sp',\n",
    "    'translation_en_it': 'eng-it',\n",
    "    'translation_it_en': 'it-eng',\n",
    "    'translation_fr_en': 'fr-eng',\n",
    "    'translation_en_fr': 'eng-fr',\n",
    "}\n",
    "palette = {\n",
    "    'Predicted': '#44AA99',\n",
    "    'Top': '#000000', #44AA99\n",
    "    'Correct': '#332288',\n",
    "    'Incorrect': '#D55E00',\n",
    "}"
   ]
  },
  {
   "cell_type": "code",
   "execution_count": null,
   "metadata": {},
   "outputs": [],
   "source": [
    "regular_accuracy_threshold = 0\n",
    "\n",
    "for idx, model_name in enumerate(results.keys()):\n",
    "    min_num_layers = min(\n",
    "        len(results[model_name][task_name][\"tv_dev_accruacy_by_layer\"]) for task_name in results[model_name]\n",
    "    )\n",
    "    all_tv_dev_accruacy_by_layer = {\n",
    "            task_name: np.array(list(results[model_name][task_name][\"tv_dev_accruacy_by_layer\"].values())[:min_num_layers])\n",
    "            for task_name in results[model_name]\n",
    "    }\n",
    "    fig, axs = plt.subplots(1, 9, figsize=(12,3))\n",
    "    df = pd.DataFrame(all_tv_dev_accruacy_by_layer)\n",
    "    # To save for FV plotting\n",
    "    df['to-eng'] = df[['translation_fr_en', 'translation_en_es', 'translation_it_en']].mean(axis=1)\n",
    "    df['from-eng'] = df[['translation_es_en', 'translation_en_fr', 'translation_en_it']].mean(axis=1)\n",
    "    df = df.rename(columns=task_map)\n",
    "    df.to_csv(f'./for_fv/{model_name}.csv', index=False)\n",
    "    baselines = []\n",
    "    for i, task in enumerate(task_map.keys()):\n",
    "        baseline = results[model_name][task]['baseline_accuracy']\n",
    "        icl = results[model_name][task]['icl_accuracy']\n",
    "        baselines.append((task, baseline, icl))\n",
    "        # plotting\n",
    "        sns.lineplot(df[task_map[task]], ax=axs[i], color='black', label='Task Vector', legend=False)\n",
    "        axs[i].set_title(task_short[task])\n",
    "        axs[i].axhline(baseline, color='#D55E00', linestyle='--', label='0-shot')\n",
    "        axs[i].axhline(icl, color='#332288', linestyle=':', label='5-shot')\n",
    "        axs[i].set_ylabel('')\n",
    "        axs[i].set_yticks([])\n",
    "        axs[i].set_xticks(np.linspace(0, min_num_layers, 5))\n",
    "        axs[i].set_xlim(0, min_num_layers)\n",
    "\n",
    "    handles, labels = axs[i].get_legend_handles_labels()\n",
    "    fig.legend(handles, labels, loc='upper center', bbox_to_anchor=(0.5, 0.92), ncol=3, framealpha=0, fontsize=12)\n",
    "    baselines = pd.DataFrame(baselines, columns = ['', 'baseline', 'icl']).T\n",
    "    baselines.columns = baselines.iloc[0]\n",
    "    baselines = baselines.drop('', axis=0)\n",
    "    baselines['to-eng'] = baselines[['translation_fr_en', 'translation_en_es', 'translation_it_en']].mean(axis=1)\n",
    "    baselines['from-eng'] = baselines[['translation_es_en', 'translation_en_fr', 'translation_en_it']].mean(axis=1)\n",
    "    baselines = baselines.rename(columns=task_map)\n",
    "    baselines.to_csv(f'./for_fv/{model_name}_baselines.csv', index=False)\n",
    "        \n",
    "    axs[0].set_yticks(np.linspace(0, 1, 6))\n",
    "    plt.suptitle(f\"{STAGE_NAME_LONG[model_name.replace('_', '-')]}\\n\", fontsize=15)\n",
    "    fig.supxlabel(f'Layer', y=0.1)\n",
    "    fig.supylabel('ICL Accuracy', y=0.47)\n",
    "    plt.tight_layout()\n",
    "    # plt.show()\n",
    "    # break\n",
    "    plt.savefig(f'../figures/activation_patching/task_vector/tv_{model_name}.pdf', bbox_inches='tight', dpi=300)\n",
    "    plt.close()\n",
    "    del fig, axs, df\n",
    "    gc.collect()"
   ]
  }
 ],
 "metadata": {
  "kernelspec": {
   "display_name": "dedup",
   "language": "python",
   "name": "python3"
  },
  "language_info": {
   "codemirror_mode": {
    "name": "ipython",
    "version": 3
   },
   "file_extension": ".py",
   "mimetype": "text/x-python",
   "name": "python",
   "nbconvert_exporter": "python",
   "pygments_lexer": "ipython3",
   "version": "3.10.14"
  },
  "orig_nbformat": 4,
  "vscode": {
   "interpreter": {
    "hash": "ca4d4a7e106fc091ca83758e6658e25d744d9492cc9bd4df344a4776d3488604"
   }
  }
 },
 "nbformat": 4,
 "nbformat_minor": 2
}
