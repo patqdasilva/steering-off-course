{
 "cells": [
  {
   "cell_type": "markdown",
   "metadata": {},
   "source": [
    "# Used to create back-translations for Function Vectors"
   ]
  },
  {
   "cell_type": "markdown",
   "metadata": {},
   "source": [
    "# funcs"
   ]
  },
  {
   "cell_type": "code",
   "execution_count": null,
   "metadata": {},
   "outputs": [],
   "source": [
    "import json\n",
    "\n",
    "def read_json(file_path):\n",
    "    try:\n",
    "        with open(file_path, 'r', encoding='utf-8') as file:\n",
    "            data = json.load(file)  # Parse JSON data\n",
    "        return data\n",
    "    except json.JSONDecodeError as e:\n",
    "        print(\"Error decoding JSON:\", e)\n",
    "        return None\n",
    "    except FileNotFoundError:\n",
    "        print(\"File not found:\", file_path)\n",
    "        return None\n",
    "    \n",
    "def save_json(data, file_path):\n",
    "    try:\n",
    "        with open(file_path, 'w', encoding='utf-8') as file:\n",
    "            json.dump(data, file, ensure_ascii=True, indent=4)\n",
    "        print(f\"Data successfully saved to {file_path}\")\n",
    "    except TypeError as e:\n",
    "        print(\"Error encoding JSON:\", e)"
   ]
  },
  {
   "cell_type": "markdown",
   "metadata": {},
   "source": [
    "# Reverse Languages (e.g. en-fr to fr-en)"
   ]
  },
  {
   "cell_type": "code",
   "execution_count": null,
   "metadata": {},
   "outputs": [],
   "source": [
    "languages = [\n",
    "    ('english', 'french'),\n",
    "    ('english', 'german'),\n",
    "    ('english', 'spanish'),\n",
    "]\n",
    "\n",
    "for l1, l2 in languages:\n",
    "    fp = f'../function_vectors/dataset_files/abstractive/{l1}-{l2}.json'\n",
    "    l1_l2 = read_json(fp)\n",
    "    l2_l1 = [\n",
    "        {'input': line['output'], 'output': line['input']}\n",
    "        for line in l1_l2\n",
    "    ]\n",
    "    print(l1_l2[0], l2_l1[0])\n",
    "    save_fp = f'../function_vectors/dataset_files/abstractive/{l2}-{l1}.json'\n",
    "    save_json(l2_l1, save_fp)"
   ]
  }
 ],
 "metadata": {
  "kernelspec": {
   "display_name": "dedup",
   "language": "python",
   "name": "python3"
  },
  "language_info": {
   "codemirror_mode": {
    "name": "ipython",
    "version": 3
   },
   "file_extension": ".py",
   "mimetype": "text/x-python",
   "name": "python",
   "nbconvert_exporter": "python",
   "pygments_lexer": "ipython3",
   "version": "3.10.14"
  },
  "orig_nbformat": 4
 },
 "nbformat": 4,
 "nbformat_minor": 2
}
