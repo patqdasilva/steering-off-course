{
 "cells": [
  {
   "cell_type": "code",
   "execution_count": null,
   "metadata": {},
   "outputs": [],
   "source": [
    "import os\n",
    "import gc\n",
    "import sys\n",
    "\n",
    "import torch\n",
    "import numpy as np\n",
    "\n",
    "from tqdm import tqdm\n",
    "\n",
    "from matplotlib import pyplot as plt\n",
    "plt.rcParams['text.usetex'] = True\n",
    "plt.rcParams['font.family'] = 'serif'\n",
    "plt.rcParams['font.serif'] = 'Times New Roman'\n",
    "import seaborn as sns\n",
    "\n",
    "sys.path.append('..')\n",
    "from config import HF_NAME_MAP"
   ]
  },
  {
   "cell_type": "code",
   "execution_count": null,
   "metadata": {},
   "outputs": [],
   "source": [
    "tasks = [\n",
    "    'antonym',\n",
    "    'english-french',\n",
    "    'english-german',\n",
    "    'english-spanish',\n",
    "    'french-english',\n",
    "    'german-english',\n",
    "    'spanish-english',\n",
    "]\n",
    "for model_name, hf_name_full in tqdm(HF_NAME_MAP.items()):\n",
    "    fig, axs = plt.subplots(1, len(tasks), figsize=(10, 3))\n",
    "    \n",
    "    needs_cbar = False\n",
    "    for i in range(len(tasks)):\n",
    "        indirect_effect = 0\n",
    "        indirect_effect_path = f'../function_vectors/results/{model_name}/{tasks[i]}/{tasks[i]}_indirect_effect.pt'\n",
    "        if os.path.isfile(indirect_effect_path):\n",
    "            indirect_effect = torch.load(indirect_effect_path, weights_only=False)\n",
    "            cie = torch.mean(indirect_effect, dim=0)\n",
    "            if i == len(tasks) - 1:\n",
    "                needs_cbar = True\n",
    "            sns.heatmap(cie.T, cmap=sns.color_palette(\"vlag_r\", as_cmap=True), ax=axs[i], cbar=needs_cbar)\n",
    "            if i == 0:\n",
    "                axs[i].set_ylabel('Head Index')\n",
    "            else:\n",
    "                axs[i].set_ylabel('')\n",
    "            axs[i].set_xlabel('Layer')\n",
    "            axs[i].set_yticks(np.linspace(0, cie.T.shape[0], 5), np.linspace(0, cie.T.shape[0], 5), rotation=0)\n",
    "            axs[i].set_title(tasks[i])\n",
    "            if i > 0:\n",
    "                axs[i].tick_params(labelleft=False, left=False)\n",
    "    plt.suptitle(f'Casual Indirect Effect | {model_name}')\n",
    "    plt.tight_layout()\n",
    "    # plt.show()\n",
    "    # break\n",
    "    plt.savefig(f'../figures/locality/{model_name}.pdf', dpi=300)\n",
    "    plt.close()\n",
    "    del fig, axs\n",
    "    gc.collect()"
   ]
  }
 ],
 "metadata": {
  "kernelspec": {
   "display_name": "Python 3",
   "language": "python",
   "name": "python3"
  },
  "language_info": {
   "codemirror_mode": {
    "name": "ipython",
    "version": 3
   },
   "file_extension": ".py",
   "mimetype": "text/x-python",
   "name": "python",
   "nbconvert_exporter": "python",
   "pygments_lexer": "ipython3",
   "version": "3.12.9"
  }
 },
 "nbformat": 4,
 "nbformat_minor": 2
}
